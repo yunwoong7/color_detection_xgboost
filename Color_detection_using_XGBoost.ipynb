{
 "cells": [
  {
   "cell_type": "markdown",
   "id": "b1add604-86e4-4df5-a1ec-460b16f0dd99",
   "metadata": {
    "pycharm": {
     "name": "#%% md\n"
    }
   },
   "source": [
    "pip install xgboost"
   ]
  },
  {
   "cell_type": "markdown",
   "id": "d8356148-d2dd-4a05-967f-57c7a96332b4",
   "metadata": {
    "tags": [],
    "pycharm": {
     "name": "#%% md\n"
    }
   },
   "source": [
    "## 1. XGBoost Classification Model"
   ]
  },
  {
   "cell_type": "markdown",
   "id": "ce774153-f8aa-4f8e-b275-7d8e6569b94a",
   "metadata": {
    "pycharm": {
     "name": "#%% md\n"
    }
   },
   "source": [
    "### Import packages"
   ]
  },
  {
   "cell_type": "code",
   "execution_count": 235,
   "id": "d30f28c7-1b18-4311-92c5-31db50fe44ee",
   "metadata": {
    "pycharm": {
     "name": "#%%\n"
    }
   },
   "outputs": [],
   "source": [
    "from xgboost import XGBClassifier\n",
    "from xgboost import plot_importance\n",
    "from sklearn.model_selection import train_test_split\n",
    "from sklearn.metrics import accuracy_score\n",
    "import pandas as pd"
   ]
  },
  {
   "cell_type": "markdown",
   "id": "7dd2900a-63b5-485a-904d-54dafc5331cf",
   "metadata": {
    "pycharm": {
     "name": "#%% md\n"
    }
   },
   "source": [
    "### Load data"
   ]
  },
  {
   "cell_type": "code",
   "execution_count": 357,
   "id": "16a037e5-3151-4b17-b8db-f743341e5bda",
   "metadata": {
    "pycharm": {
     "name": "#%%\n"
    }
   },
   "outputs": [
    {
     "data": {
      "text/html": [
       "<div>\n",
       "<style scoped>\n",
       "    .dataframe tbody tr th:only-of-type {\n",
       "        vertical-align: middle;\n",
       "    }\n",
       "\n",
       "    .dataframe tbody tr th {\n",
       "        vertical-align: top;\n",
       "    }\n",
       "\n",
       "    .dataframe thead th {\n",
       "        text-align: right;\n",
       "    }\n",
       "</style>\n",
       "<table border=\"1\" class=\"dataframe\">\n",
       "  <thead>\n",
       "    <tr style=\"text-align: right;\">\n",
       "      <th></th>\n",
       "      <th>R</th>\n",
       "      <th>G</th>\n",
       "      <th>B</th>\n",
       "      <th>COLOR</th>\n",
       "      <th>CLASS</th>\n",
       "    </tr>\n",
       "  </thead>\n",
       "  <tbody>\n",
       "    <tr>\n",
       "      <th>0</th>\n",
       "      <td>136</td>\n",
       "      <td>8</td>\n",
       "      <td>8</td>\n",
       "      <td>Blood Red</td>\n",
       "      <td>Red</td>\n",
       "    </tr>\n",
       "    <tr>\n",
       "      <th>1</th>\n",
       "      <td>170</td>\n",
       "      <td>74</td>\n",
       "      <td>68</td>\n",
       "      <td>Brick Red</td>\n",
       "      <td>Red</td>\n",
       "    </tr>\n",
       "    <tr>\n",
       "      <th>2</th>\n",
       "      <td>238</td>\n",
       "      <td>75</td>\n",
       "      <td>43</td>\n",
       "      <td>Bright Red</td>\n",
       "      <td>Red</td>\n",
       "    </tr>\n",
       "    <tr>\n",
       "      <th>3</th>\n",
       "      <td>165</td>\n",
       "      <td>42</td>\n",
       "      <td>42</td>\n",
       "      <td>Brown</td>\n",
       "      <td>Red</td>\n",
       "    </tr>\n",
       "    <tr>\n",
       "      <th>4</th>\n",
       "      <td>128</td>\n",
       "      <td>0</td>\n",
       "      <td>32</td>\n",
       "      <td>Burgundy</td>\n",
       "      <td>Red</td>\n",
       "    </tr>\n",
       "  </tbody>\n",
       "</table>\n",
       "</div>"
      ],
      "text/plain": [
       "     R   G   B       COLOR CLASS\n",
       "0  136   8   8   Blood Red   Red\n",
       "1  170  74  68   Brick Red   Red\n",
       "2  238  75  43  Bright Red   Red\n",
       "3  165  42  42       Brown   Red\n",
       "4  128   0  32    Burgundy   Red"
      ]
     },
     "execution_count": 357,
     "metadata": {},
     "output_type": "execute_result"
    }
   ],
   "source": [
    "color = pd.read_csv(\"data/color.csv\")\n",
    "color.head()"
   ]
  },
  {
   "cell_type": "markdown",
   "id": "bba1b79c-0ee5-4eaa-bb44-b93db367b2be",
   "metadata": {
    "pycharm": {
     "name": "#%% md\n"
    }
   },
   "source": [
    "HTML color library를 참고하여 Red, Green, Blue로 Class를 나누었습니다.  \n",
    "CSV 파일에서 R, G, B는 X값으로 CLASS는 Y값으로 사용합니다."
   ]
  },
  {
   "cell_type": "code",
   "execution_count": 358,
   "id": "2fc335a0-2a42-4410-9a79-b9c222c77f55",
   "metadata": {
    "pycharm": {
     "name": "#%%\n"
    }
   },
   "outputs": [
    {
     "name": "stdout",
     "output_type": "stream",
     "text": [
      "x colum : ['R', 'G', 'B']\n",
      "y colum : CLASS\n"
     ]
    }
   ],
   "source": [
    "cols = list(color.columns)\n",
    "x_col = cols[:3]\n",
    "y_col = cols[-1]\n",
    "\n",
    "print('x colum : {}'.format(x_col))\n",
    "print('y colum : {}'.format(y_col))"
   ]
  },
  {
   "cell_type": "markdown",
   "id": "ab9b271c-54b5-4eff-bc86-e7216a330d34",
   "metadata": {
    "tags": [],
    "pycharm": {
     "name": "#%% md\n"
    }
   },
   "source": [
    "### Train / Test split"
   ]
  },
  {
   "cell_type": "code",
   "execution_count": 359,
   "id": "4327be8f-f52f-4028-92a0-f5fe13ca5f27",
   "metadata": {
    "pycharm": {
     "name": "#%%\n"
    }
   },
   "outputs": [
    {
     "name": "stdout",
     "output_type": "stream",
     "text": [
      "(103, 5) (26, 5)\n"
     ]
    }
   ],
   "source": [
    "color_train, color_test = train_test_split(color, test_size=0.2, random_state=123)\n",
    "print(color_train.shape, color_test.shape)"
   ]
  },
  {
   "cell_type": "markdown",
   "id": "6126c7b5-b088-4d4f-b42b-2291d4abfa0f",
   "metadata": {
    "pycharm": {
     "name": "#%% md\n"
    }
   },
   "source": [
    "### Model 생성"
   ]
  },
  {
   "cell_type": "code",
   "execution_count": 360,
   "id": "af98c2cf-e02f-4139-9f77-ecb7b92efbfd",
   "metadata": {
    "pycharm": {
     "name": "#%%\n"
    }
   },
   "outputs": [],
   "source": [
    "xgb_model = XGBClassifier(num_class=3,\n",
    "                          n_estimators=500, \n",
    "                          learning_rate=0.2, \n",
    "                          max_depth=4,\n",
    "                          eval_metric='mlogloss')"
   ]
  },
  {
   "cell_type": "code",
   "execution_count": 361,
   "id": "3cf02e6b-9483-40d5-a377-746b934dea9e",
   "metadata": {
    "pycharm": {
     "name": "#%%\n"
    }
   },
   "outputs": [
    {
     "name": "stderr",
     "output_type": "stream",
     "text": [
      "/Users/a06790/opt/anaconda3/envs/ocr_env/lib/python3.6/site-packages/xgboost/sklearn.py:1224: UserWarning: The use of label encoder in XGBClassifier is deprecated and will be removed in a future release. To remove this warning, do the following: 1) Pass option use_label_encoder=False when constructing XGBClassifier object; and 2) Encode your labels (y) as integers starting with 0, i.e. 0, 1, 2, ..., [num_class - 1].\n",
      "  warnings.warn(label_encoder_deprecation_msg, UserWarning)\n"
     ]
    },
    {
     "data": {
      "text/plain": [
       "XGBClassifier(base_score=0.5, booster='gbtree', colsample_bylevel=1,\n",
       "              colsample_bynode=1, colsample_bytree=1, enable_categorical=False,\n",
       "              eval_metric='mlogloss', gamma=0, gpu_id=-1, importance_type=None,\n",
       "              interaction_constraints='', learning_rate=0.2, max_delta_step=0,\n",
       "              max_depth=4, min_child_weight=1, missing=nan,\n",
       "              monotone_constraints='()', n_estimators=500, n_jobs=12,\n",
       "              num_class=3, num_parallel_tree=1, objective='multi:softprob',\n",
       "              predictor='auto', random_state=0, reg_alpha=0, reg_lambda=1,\n",
       "              scale_pos_weight=None, subsample=1, tree_method='exact',\n",
       "              validate_parameters=1, ...)"
      ]
     },
     "execution_count": 361,
     "metadata": {},
     "output_type": "execute_result"
    }
   ],
   "source": [
    "xgb_model.fit(X=color_train[x_col], y=color_train[y_col])"
   ]
  },
  {
   "cell_type": "markdown",
   "id": "1bb9e283-5879-4be4-b353-d31e2854fc9f",
   "metadata": {
    "pycharm": {
     "name": "#%% md\n"
    }
   },
   "source": [
    "### Model 평가"
   ]
  },
  {
   "cell_type": "code",
   "execution_count": 362,
   "id": "3528ea94-0efe-46cd-b14c-c0704845d0d1",
   "metadata": {
    "pycharm": {
     "name": "#%%\n"
    }
   },
   "outputs": [],
   "source": [
    "xgb_pred = xgb.predict(color_test[x_col])"
   ]
  },
  {
   "cell_type": "code",
   "execution_count": 363,
   "id": "68f94c66-9077-4f1c-8f78-22e67b2a1738",
   "metadata": {
    "pycharm": {
     "name": "#%%\n"
    }
   },
   "outputs": [
    {
     "name": "stdout",
     "output_type": "stream",
     "text": [
      "accuracy : [1.0]\n"
     ]
    },
    {
     "data": {
      "text/plain": [
       "<AxesSubplot:title={'center':'Feature importance'}, xlabel='F score', ylabel='Features'>"
      ]
     },
     "execution_count": 363,
     "metadata": {},
     "output_type": "execute_result"
    },
    {
     "data": {
      "image/png": "[encoded data removed]",
      "text/plain": [
       "<Figure size 432x288 with 1 Axes>"
      ]
     },
     "metadata": {
      "needs_background": "light"
     },
     "output_type": "display_data"
    }
   ],
   "source": [
    "y_pred = xgb.predict(color_test[x_col]) # 예측치\n",
    "y_true = color_test[y_col]\n",
    "acc = accuracy_score(y_true, y_pred)\n",
    "\n",
    "print('accuracy : [{}]'.format(acc))\n",
    "plot_importance(xgb)"
   ]
  },
  {
   "cell_type": "markdown",
   "id": "72900731-d1d6-4c47-86c4-c7d30e9d937d",
   "metadata": {
    "pycharm": {
     "name": "#%% md\n"
    }
   },
   "source": [
    "## 2. Color Detection using XGBoost Model"
   ]
  },
  {
   "cell_type": "markdown",
   "id": "e3bfeaa0-e270-445b-9769-5748075babfa",
   "metadata": {
    "pycharm": {
     "name": "#%% md\n"
    }
   },
   "source": [
    "### Import packages"
   ]
  },
  {
   "cell_type": "code",
   "execution_count": 364,
   "id": "69f5a550-4d93-4cb0-bbb2-07fa03e008e3",
   "metadata": {
    "pycharm": {
     "name": "#%%\n"
    }
   },
   "outputs": [],
   "source": [
    "import cv2\n",
    "import numpy as np\n",
    "from scipy.spatial import distance as dist\n",
    "import imutils\n",
    "import matplotlib.pyplot as plt"
   ]
  },
  {
   "cell_type": "markdown",
   "id": "327618bc-e44b-49cf-aa33-4abb5c520f26",
   "metadata": {
    "pycharm": {
     "name": "#%% md\n"
    }
   },
   "source": [
    "### Function declaration"
   ]
  },
  {
   "cell_type": "code",
   "execution_count": 365,
   "id": "842cf5b4-a19a-4b61-8c11-da756047d267",
   "metadata": {
    "pycharm": {
     "name": "#%%\n"
    }
   },
   "outputs": [],
   "source": [
    "def img_show(title='image', img=None, figsize=(8 ,5)):\n",
    "    plt.figure(figsize=figsize)\n",
    "\n",
    "    if type(img) == list:\n",
    "        if type(title) == list:\n",
    "            titles = title\n",
    "        else:\n",
    "            titles = []\n",
    "\n",
    "            for i in range(len(img)):\n",
    "                titles.append(title)\n",
    "\n",
    "        for i in range(len(img)):\n",
    "            if len(img[i].shape) <= 2:\n",
    "                rgbImg = cv2.cvtColor(img[i], cv2.COLOR_GRAY2RGB)\n",
    "            else:\n",
    "                rgbImg = cv2.cvtColor(img[i], cv2.COLOR_BGR2RGB)\n",
    "\n",
    "            plt.subplot(1, len(img), i + 1), plt.imshow(rgbImg)\n",
    "            plt.title(titles[i])\n",
    "            plt.xticks([]), plt.yticks([])\n",
    "\n",
    "        plt.show()\n",
    "    else:\n",
    "        if len(img.shape) < 3:\n",
    "            rgbImg = cv2.cvtColor(img, cv2.COLOR_GRAY2RGB)\n",
    "        else:\n",
    "            rgbImg = cv2.cvtColor(img, cv2.COLOR_BGR2RGB)\n",
    "\n",
    "        plt.imshow(rgbImg)\n",
    "        plt.title(title)\n",
    "        plt.xticks([]), plt.yticks([])\n",
    "        plt.show()"
   ]
  },
  {
   "cell_type": "code",
   "execution_count": 366,
   "id": "0ab900a1-256d-4583-87b1-c8a41ce1001f",
   "metadata": {
    "pycharm": {
     "name": "#%%\n"
    }
   },
   "outputs": [],
   "source": [
    "def color_label(image, c):\n",
    "    mask = np.zeros(image.shape[:2], dtype=\"uint8\")\n",
    "    cv2.drawContours(mask, [c], -1, 255, -1)\n",
    "    mask = cv2.erode(mask, None, iterations=2)\n",
    "    mean = cv2.mean(image, mask=mask)[:3]\n",
    "    \n",
    "    rgb_value = pd.DataFrame({'R': [mean[2]], 'G': [mean[1]], 'B': [mean[0]]})\n",
    "    xgb_pred = xgb.predict(rgb_value)\n",
    "    \n",
    "    return xgb_pred[0]"
   ]
  },
  {
   "cell_type": "markdown",
   "id": "14135d7e-9f92-467a-a80e-c6b274539a26",
   "metadata": {
    "pycharm": {
     "name": "#%% md\n"
    }
   },
   "source": [
    "### Load image"
   ]
  },
  {
   "cell_type": "code",
   "execution_count": 367,
   "id": "f6794342-b562-4541-b294-1fbe30ecff10",
   "metadata": {
    "pycharm": {
     "name": "#%%\n"
    }
   },
   "outputs": [
    {
     "data": {
      "image/png": "[encoded data removed]",
      "text/plain": [
       "<Figure size 576x360 with 1 Axes>"
      ]
     },
     "metadata": {},
     "output_type": "display_data"
    }
   ],
   "source": [
    "cv2_image = cv2.imread('asset/images/color.jpg', cv2.IMREAD_COLOR)\n",
    "img_show('original image', cv2_image)"
   ]
  },
  {
   "cell_type": "markdown",
   "id": "93474f04-159b-4ac9-979b-acb92f1cfb5c",
   "metadata": {
    "pycharm": {
     "name": "#%% md\n"
    }
   },
   "source": [
    "### Color Detection"
   ]
  },
  {
   "cell_type": "code",
   "execution_count": 368,
   "id": "c5989301-2a21-44ba-ae82-462dd3de049c",
   "metadata": {
    "pycharm": {
     "name": "#%%\n"
    }
   },
   "outputs": [
    {
     "data": {
      "image/png": "[encoded data removed]",
      "text/plain": [
       "<Figure size 576x360 with 2 Axes>"
      ]
     },
     "metadata": {},
     "output_type": "display_data"
    }
   ],
   "source": [
    "resized = imutils.resize(cv2_image, width=640)\n",
    "ratio = cv2_image.shape[0] / float(resized.shape[0])\n",
    "blurred = cv2.GaussianBlur(resized, (5, 5), 0)\n",
    "gray = cv2.cvtColor(blurred, cv2.COLOR_BGR2GRAY)\n",
    "thresh = cv2.threshold(gray, 10, 255, cv2.THRESH_BINARY)[1]\n",
    "\n",
    "img_show(['GaussianBlur', 'Threshold'], [blurred, thresh])"
   ]
  },
  {
   "cell_type": "code",
   "execution_count": 369,
   "id": "3013dd39-ad53-490c-8003-4820d903c42b",
   "metadata": {
    "pycharm": {
     "name": "#%%\n"
    }
   },
   "outputs": [],
   "source": [
    "cnts = cv2.findContours(thresh.copy(), cv2.RETR_EXTERNAL, cv2.CHAIN_APPROX_SIMPLE)\n",
    "cnts = imutils.grab_contours(cnts)"
   ]
  },
  {
   "cell_type": "code",
   "execution_count": 370,
   "id": "cd4f9ed4-214c-4b83-8765-2a6b45b73df9",
   "metadata": {
    "pycharm": {
     "name": "#%%\n"
    }
   },
   "outputs": [],
   "source": [
    "vis = cv2_image.copy()\n",
    "\n",
    "for c in cnts:\n",
    "    # cv2.moments를 이용하여 객체의 중심을 계산\n",
    "    M = cv2.moments(c)\n",
    "    cX = int((M[\"m10\"] / M[\"m00\"]) * ratio)\n",
    "    cY = int((M[\"m01\"] / M[\"m00\"]) * ratio)\n",
    "    \n",
    "    # 이미지에서 객체의 윤곽선과 Color를 표시\n",
    "    color = color_label(resized, c)\n",
    "\n",
    "    c = c.astype(\"float\")\n",
    "    c *= ratio\n",
    "    c = c.astype(\"int\")\n",
    "    cv2.drawContours(vis, [c], -1, (0, 255, 0), 10)\n",
    "    cv2.circle(vis, (cX, cY), 20, (0, 255, 0), -1); \n",
    "    cv2.putText(vis, color, (cX-80, cY-50), cv2.FONT_HERSHEY_SIMPLEX, 2, (255, 255, 255), 5)"
   ]
  },
  {
   "cell_type": "code",
   "execution_count": 371,
   "id": "1ef42172-a78e-400e-aab7-9855943ee28d",
   "metadata": {
    "pycharm": {
     "name": "#%%\n"
    }
   },
   "outputs": [
    {
     "data": {
      "image/png": "[encoded data removed]",
      "text/plain": [
       "<Figure size 1152x720 with 1 Axes>"
      ]
     },
     "metadata": {},
     "output_type": "display_data"
    }
   ],
   "source": [
    "img_show('Color Detection', vis, figsize=(16,10))"
   ]
  }
 ],
 "metadata": {
  "kernelspec": {
   "display_name": "ocr_env",
   "language": "python",
   "name": "ocr_env"
  },
  "language_info": {
   "codemirror_mode": {
    "name": "ipython",
    "version": 3
   },
   "file_extension": ".py",
   "mimetype": "text/x-python",
   "name": "python",
   "nbconvert_exporter": "python",
   "pygments_lexer": "ipython3",
   "version": "3.6.13"
  }
 },
 "nbformat": 4,
 "nbformat_minor": 5
}